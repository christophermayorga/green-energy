{
 "cells": [
  {
   "cell_type": "markdown",
   "metadata": {},
   "source": [
    "# Qualitative Research on Green Energy Data"
   ]
  },
  {
   "cell_type": "markdown",
   "metadata": {},
   "source": [
    "## \"The Energy Transition Must Lay A False Dilemma To Rest\""
   ]
  },
  {
   "cell_type": "markdown",
   "metadata": {},
   "source": [
    "Author: Jean-Marc Ollagnier"
   ]
  },
  {
   "cell_type": "markdown",
   "metadata": {},
   "source": [
    "- the biggest business risk is inaction\n",
    "- monitor carbon footprint of a company\n",
    "- advanced analytics enable detailed and forward-looking understanding of wasted energy and unnecessary emissions\n",
    "- blockchain"
   ]
  },
  {
   "cell_type": "markdown",
   "metadata": {},
   "source": [
    "Next steps\n",
    "- Read Accenture report \"European industries can grow with green\"\n",
    "- World Economic Forum, \"Fostering Effective Energy Transition\""
   ]
  },
  {
   "cell_type": "markdown",
   "metadata": {},
   "source": [
    "## \"Driving climate-smart agriculture with data\""
   ]
  },
  {
   "cell_type": "markdown",
   "metadata": {},
   "source": [
    "Author: Christina Cilento"
   ]
  },
  {
   "cell_type": "markdown",
   "metadata": {},
   "source": [
    "- carbon sequestration\n",
    "- no-till agriculture\n",
    "- "
   ]
  }
 ],
 "metadata": {
  "kernelspec": {
   "display_name": "Python 3",
   "language": "python",
   "name": "python3"
  },
  "language_info": {
   "codemirror_mode": {
    "name": "ipython",
    "version": 3
   },
   "file_extension": ".py",
   "mimetype": "text/x-python",
   "name": "python",
   "nbconvert_exporter": "python",
   "pygments_lexer": "ipython3",
   "version": "3.8.5"
  }
 },
 "nbformat": 4,
 "nbformat_minor": 4
}
